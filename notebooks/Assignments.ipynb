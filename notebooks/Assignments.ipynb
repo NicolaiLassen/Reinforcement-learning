{
 "cells": [
  {
   "cell_type": "code",
   "execution_count": null,
   "id": "changed-group",
   "metadata": {},
   "outputs": [],
   "source": [
    "import torch\n",
    "import torch.nn as nn\n",
    "import torch.nn.functional as F\n",
    "import torch.optim\n",
    "\n",
    "from dataclasses import dataclass\n",
    "from torch.autograd import Variable\n",
    "import numpy as np\n",
    "\n",
    "import math\n",
    "import torch.optim as optim\n",
    "import gym\n",
    "import random\n",
    "import matplotlib.pyplot as plt"
   ]
  },
  {
   "cell_type": "markdown",
   "id": "higher-tractor",
   "metadata": {},
   "source": [
    "## REINFORCE "
   ]
  },
  {
   "cell_type": "code",
   "execution_count": null,
   "id": "innocent-louisiana",
   "metadata": {},
   "outputs": [],
   "source": [
    "class policy_model(nn.Module): \n",
    "    \n",
    "    def __init__(self): \n",
    "        super(policy_model, self).__init__()\n",
    "        self.layers = nn.Sequential(\n",
    "            nn.Linear(8, 256), \n",
    "            nn.ReLU(), \n",
    "            nn.Linear(256, 256), \n",
    "            nn.ReLU(), \n",
    "            nn.Linear(256, 256), \n",
    "            nn.ReLU(),\n",
    "            nn.Linear(256, 4)\n",
    "        )        \n",
    "        \n",
    "    def forward(self, data): \n",
    "        x = self.layers(data)\n",
    "        return F.softmax(x, dim=1)"
   ]
  },
  {
   "cell_type": "code",
   "execution_count": null,
   "id": "removable-midnight",
   "metadata": {},
   "outputs": [],
   "source": [
    "def REINFORCE(model, optimizer, render=False):\n",
    "    \n",
    "    all_rewards = []\n",
    "    \n",
    "    for episode in range(5000):\n",
    "        state = env.reset()\n",
    "        log_probs = []\n",
    "        rewards = []\n",
    "        GAMMA = 0.9\n",
    "        print(episode)\n",
    "        \n",
    "        for steps in range(1000):\n",
    "            if(render):\n",
    "                env.render()\n",
    "            \n",
    "            state = torch.from_numpy(state).float().unsqueeze(0)\n",
    "            \n",
    "            probs = model(Variable(state))\n",
    "            \n",
    "            action = np.random.choice(4, p=np.squeeze(probs.detach().numpy()))\n",
    "            \n",
    "            log_prob = torch.log(probs.squeeze(0)[action])\n",
    "            \n",
    "            new_state, reward, done, _ = env.step(action)\n",
    "            \n",
    "            log_probs.append(log_prob)\n",
    "            \n",
    "            rewards.append(reward)\n",
    "            \n",
    "            if done:\n",
    "                c = []\n",
    "                for t in range(len(rewards)):\n",
    "                    Gt = 0\n",
    "                    for i, r in enumerate(rewards[t:]):\n",
    "                        Gt = Gt + (GAMMA**(i+1)) * r\n",
    "                    c.append(Gt)\n",
    "      \n",
    "                c = torch.tensor(c)    \n",
    "                c = (c - c.mean()) / (c.std() + 1e-9)\n",
    "            \n",
    "                policy_gradient = []\n",
    "                for log_prob, Gt in zip(log_probs, c):\n",
    "                    policy_gradient.append(-log_prob * Gt)\n",
    "    \n",
    "                optimizer.zero_grad()\n",
    "                torch.stack(policy_gradient).sum().backward()\n",
    "                optimizer.step()\n",
    "                break\n",
    "                \n",
    "            state = new_state"
   ]
  },
  {
   "cell_type": "code",
   "execution_count": null,
   "id": "classified-vulnerability",
   "metadata": {},
   "outputs": [],
   "source": [
    "model = policy_model()\n",
    "optimizer = optim.SGD(model.parameters() ,lr = 0.001)"
   ]
  },
  {
   "cell_type": "code",
   "execution_count": null,
   "id": "optimum-central",
   "metadata": {},
   "outputs": [],
   "source": [
    "REINFORCE(model, optimizer, render=False)"
   ]
  },
  {
   "cell_type": "code",
   "execution_count": null,
   "id": "identified-catch",
   "metadata": {},
   "outputs": [],
   "source": [
    "REINFORCE(model, optimizer, render=False)"
   ]
  },
  {
   "cell_type": "markdown",
   "id": "sonic-grocery",
   "metadata": {},
   "source": [
    "## DQN"
   ]
  },
  {
   "cell_type": "markdown",
   "id": "greek-karaoke",
   "metadata": {},
   "source": [
    "### TODO: Still not correct"
   ]
  },
  {
   "cell_type": "code",
   "execution_count": null,
   "id": "prescribed-delay",
   "metadata": {},
   "outputs": [],
   "source": [
    "env = gym.make('CartPole-v0')"
   ]
  },
  {
   "cell_type": "code",
   "execution_count": null,
   "id": "greenhouse-asthma",
   "metadata": {},
   "outputs": [],
   "source": [
    "class DQN(nn.Module): \n",
    "    def __init__(self, input_dim, hidden_dim, output_dim): \n",
    "        super(DQN, self).__init__()\n",
    "        self.layers = nn.Sequential(\n",
    "            nn.Linear(input_dim, hidden_dim), \n",
    "            nn.ReLU(),\n",
    "            nn.Linear(hidden_dim, output_dim)\n",
    "        )        \n",
    "        \n",
    "    def forward(self, data): \n",
    "        x = self.layers(data)\n",
    "        return F.softmax(x, dim=0)"
   ]
  },
  {
   "cell_type": "code",
   "execution_count": null,
   "id": "limiting-scholar",
   "metadata": {},
   "outputs": [],
   "source": [
    "class Buffer: \n",
    "    \n",
    "    mem = []\n",
    "    \n",
    "    def __init__(self, length): \n",
    "        self.length = length\n",
    "        \n",
    "    def add(self, observation):\n",
    "        self.mem.append(observation)\n",
    "        if len(self.mem) > self.length:\n",
    "            self.mem = self.mem[-self.length:]\n",
    "    \n",
    "    def __len__(self): \n",
    "        return len(self.mem)\n",
    "\n",
    "    def __iter__(self): \n",
    "        for k in self.mem: \n",
    "            yield k\n",
    "            \n",
    "    def sample(self, batch_size = 32):\n",
    "        return random.sample(self.mem, batch_size)"
   ]
  },
  {
   "cell_type": "code",
   "execution_count": null,
   "id": "packed-exchange",
   "metadata": {},
   "outputs": [],
   "source": [
    "EPS_START = 0.9  # e-greedy threshold start value\n",
    "EPS_END = 0.05  # e-greedy threshold end value\n",
    "EPS_DECAY = 200  # e-greedy threshold decay\n",
    "steps_done = 0"
   ]
  },
  {
   "cell_type": "code",
   "execution_count": null,
   "id": "floppy-logistics",
   "metadata": {},
   "outputs": [],
   "source": [
    "class Agent: \n",
    "    \n",
    "    def __init__(self, model, target, epsilon, e_decay, optimizer, epsilon_bound = 0.01, decay_frequency = 0.5, gamma = 0.9):\n",
    "        self.model_base = model\n",
    "        self.model_target = target\n",
    "        self.model_target.load_state_dict(model_base.state_dict())\n",
    "        self.epsilon = epsilon\n",
    "        self.e_decay = e_decay\n",
    "        self.epsilon_bound = epsilon_bound\n",
    "        self.optimizer = optimizer\n",
    "        self.decay_frequency = decay_frequency\n",
    "        self.gamma = gamma\n",
    "\n",
    "    def act(self, state, train=True): \n",
    "        global steps_done\n",
    "        sample = random.random()\n",
    "        eps_threshold = EPS_END + (EPS_START - EPS_END) * math.exp(-1. * steps_done / EPS_DECAY)\n",
    "        steps_done += 1\n",
    "        if train:\n",
    "            if sample > eps_threshold:\n",
    "                return self.model_base(Variable(torch.tensor([state]), volatile=True).float()).data.max(1)[1].view(1, 1)\n",
    "            else:\n",
    "                return torch.tensor(([[random.randrange(2)]])).long()\n",
    "        else:\n",
    "            return self.model_base(Variable(torch.tensor([state]), volatile=True).float()).data.max(1)[1].view(1, 1)\n",
    "                \n",
    "    def update_network(self):\n",
    "        self.model_target.load_state_dict(model_base.state_dict())\n",
    "        \n",
    "    def train(self, batch):\n",
    "        \n",
    "        \n",
    "        states = torch.tensor([item[0] for item in batch], dtype=torch.float32)\n",
    "        actions =  torch.tensor([item[1] for item in batch], dtype=torch.int64)\n",
    "        rewards = torch.tensor([item[2] for item in batch], dtype=torch.float32)\n",
    "        next_states = torch.tensor([item[3] for item in batch], dtype=torch.float32)\n",
    "        \n",
    "        q_outputs = self.model_base(states).gather(1, actions.unsqueeze(0))\n",
    "        q_targets = rewards + self.model_target(next_states).max(1)[0] * self.gamma\n",
    "        \n",
    "        ##loss = F.smooth_l1_loss(q_outputs, q_targets)\n",
    "        loss = (q_outputs - q_targets).mean()**2\n",
    "        \n",
    "        optimizer.zero_grad()\n",
    "        loss.backward()\n",
    "        optimizer.step()\n",
    "        \n",
    "    def decay(self): \n",
    "        tmp_epsilon = self.epsilon * self.e_decay\n",
    "        if self.epsilon_bound < tmp_epsilon: \n",
    "            self.epsilon = tmp_epsilon"
   ]
  },
  {
   "cell_type": "code",
   "execution_count": null,
   "id": "roman-saturn",
   "metadata": {},
   "outputs": [],
   "source": []
  },
  {
   "cell_type": "code",
   "execution_count": null,
   "id": "guided-ensemble",
   "metadata": {},
   "outputs": [],
   "source": [
    "in_dim = env.observation_space.shape[0]\n",
    "action = env.action_space.n    \n",
    "\n",
    "model_base = DQN(in_dim, 250, action)\n",
    "model_target = DQN(in_dim, 250, action)\n",
    "\n",
    "optimizer = torch.optim.SGD(model_base.parameters(), lr = 0.001)\n",
    "agent = Agent(model_base, model_target, 0.2, 0.99, optimizer, 0.01)"
   ]
  },
  {
   "cell_type": "code",
   "execution_count": null,
   "id": "pleasant-stations",
   "metadata": {},
   "outputs": [],
   "source": [
    "buffer = Buffer(10000)\n",
    "batch_size = 32\n",
    "s = env.reset()\n",
    "\n",
    "episodes = 200\n",
    "max_length_episode = 501\n",
    "\n",
    "rewards = []\n",
    "\n",
    "for i in range(episodes): \n",
    "\n",
    "    episode_rewards = []\n",
    "\n",
    "    if i % 10 == 0:\n",
    "        agent.update_network()\n",
    "\n",
    "    for j in range(max_length_episode): \n",
    "\n",
    "        a = agent.act(s)\n",
    "        print(a)\n",
    "        s1, r, done, _ = env.step(a[0, 0].item())\n",
    "        buffer.add([s, a, r, s1])\n",
    "        episode_rewards.append(r)\n",
    "        s = s1\n",
    "        \n",
    "        if(len(buffer) >= batch_size):\n",
    "            agent.train(buffer.sample(batch_size))\n",
    "\n",
    "        if done:\n",
    "            s = env.reset()\n",
    "            rewards.append(np.array(episode_rewards).sum())\n",
    "            break\n",
    "        \n",
    "plt.plot(rewards)"
   ]
  },
  {
   "cell_type": "markdown",
   "id": "bulgarian-nitrogen",
   "metadata": {},
   "source": [
    "## Run"
   ]
  },
  {
   "cell_type": "code",
   "execution_count": 8,
   "id": "universal-disclosure",
   "metadata": {},
   "outputs": [
    {
     "ename": "NameError",
     "evalue": "name 'agent' is not defined",
     "output_type": "error",
     "traceback": [
      "\u001b[1;31m---------------------------------------------------------------------------\u001b[0m",
      "\u001b[1;31mNameError\u001b[0m                                 Traceback (most recent call last)",
      "\u001b[1;32m<ipython-input-8-69654598d2cd>\u001b[0m in \u001b[0;36m<module>\u001b[1;34m\u001b[0m\n\u001b[0;32m      6\u001b[0m         \u001b[0menv\u001b[0m\u001b[1;33m.\u001b[0m\u001b[0mrender\u001b[0m\u001b[1;33m(\u001b[0m\u001b[1;33m)\u001b[0m\u001b[1;33m\u001b[0m\u001b[1;33m\u001b[0m\u001b[0m\n\u001b[0;32m      7\u001b[0m         \u001b[0mtime\u001b[0m\u001b[1;33m.\u001b[0m\u001b[0msleep\u001b[0m\u001b[1;33m(\u001b[0m\u001b[1;36m.01\u001b[0m\u001b[1;33m)\u001b[0m\u001b[1;33m\u001b[0m\u001b[1;33m\u001b[0m\u001b[0m\n\u001b[1;32m----> 8\u001b[1;33m         \u001b[0ma\u001b[0m \u001b[1;33m=\u001b[0m \u001b[0magent\u001b[0m\u001b[1;33m.\u001b[0m\u001b[0mact\u001b[0m\u001b[1;33m(\u001b[0m\u001b[0ms\u001b[0m\u001b[1;33m,\u001b[0m \u001b[0mtrain\u001b[0m\u001b[1;33m=\u001b[0m\u001b[1;32mFalse\u001b[0m\u001b[1;33m)\u001b[0m\u001b[1;33m[\u001b[0m\u001b[1;36m0\u001b[0m\u001b[1;33m,\u001b[0m \u001b[1;36m0\u001b[0m\u001b[1;33m]\u001b[0m\u001b[1;33m.\u001b[0m\u001b[0mitem\u001b[0m\u001b[1;33m(\u001b[0m\u001b[1;33m)\u001b[0m\u001b[1;33m\u001b[0m\u001b[1;33m\u001b[0m\u001b[0m\n\u001b[0m\u001b[0;32m      9\u001b[0m         \u001b[0ms\u001b[0m\u001b[1;33m,\u001b[0m \u001b[0mr\u001b[0m\u001b[1;33m,\u001b[0m \u001b[0mdone\u001b[0m\u001b[1;33m,\u001b[0m \u001b[0m_\u001b[0m \u001b[1;33m=\u001b[0m \u001b[0menv\u001b[0m\u001b[1;33m.\u001b[0m\u001b[0mstep\u001b[0m\u001b[1;33m(\u001b[0m\u001b[0ma\u001b[0m\u001b[1;33m)\u001b[0m\u001b[1;33m\u001b[0m\u001b[1;33m\u001b[0m\u001b[0m\n\u001b[0;32m     10\u001b[0m         \u001b[1;32mif\u001b[0m \u001b[0mdone\u001b[0m\u001b[1;33m:\u001b[0m\u001b[1;33m\u001b[0m\u001b[1;33m\u001b[0m\u001b[0m\n",
      "\u001b[1;31mNameError\u001b[0m: name 'agent' is not defined"
     ]
    }
   ],
   "source": [
    "import time\n",
    "\n",
    "try:\n",
    "    s = env.reset()\n",
    "    for _ in range(50000):\n",
    "        env.render()\n",
    "        time.sleep(.01)\n",
    "        a = agent.act(s, train=False)[0, 0].item()\n",
    "        s, r, done, _ = env.step(a)\n",
    "        if done:\n",
    "            env.reset()\n",
    "except KeyboardInterrupt:\n",
    "    env.close()\n",
    "    pass"
   ]
  },
  {
   "cell_type": "code",
   "execution_count": null,
   "id": "secret-zealand",
   "metadata": {},
   "outputs": [],
   "source": []
  }
 ],
 "metadata": {
  "kernelspec": {
   "display_name": "Python 3",
   "language": "python",
   "name": "python3"
  },
  "language_info": {
   "codemirror_mode": {
    "name": "ipython",
    "version": 3
   },
   "file_extension": ".py",
   "mimetype": "text/x-python",
   "name": "python",
   "nbconvert_exporter": "python",
   "pygments_lexer": "ipython3",
   "version": "3.8.5"
  }
 },
 "nbformat": 4,
 "nbformat_minor": 5
}
