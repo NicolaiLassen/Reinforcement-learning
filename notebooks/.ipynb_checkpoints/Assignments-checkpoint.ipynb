{
 "cells": [
  {
   "cell_type": "code",
   "execution_count": null,
   "id": "innocent-louisiana",
   "metadata": {},
   "outputs": [],
   "source": [
    "import torch\n",
    "import torch.nn as nn\n",
    "import torch.nn.functional as F\n",
    "import torch.optim\n",
    "\n",
    "class policy_model(nn.Module): \n",
    "    \n",
    "    def __init__(self): \n",
    "        super(policy_model, self).__init__()\n",
    "        self.layers = nn.Sequential(\n",
    "            nn.Linear(4, 256), \n",
    "            nn.ReLU(), \n",
    "            nn.Linear(256, 256), \n",
    "            nn.ReLU(), \n",
    "            nn.Linear(256, 256), \n",
    "            nn.ReLU(),\n",
    "            nn.Linear(256, 2)\n",
    "        )        \n",
    "        \n",
    "    def forward(self, data): \n",
    "        x = self.layers(data)\n",
    "        return F.softmax(x, dim=1)"
   ]
  },
  {
   "cell_type": "code",
   "execution_count": null,
   "id": "removable-midnight",
   "metadata": {},
   "outputs": [],
   "source": [
    "import gym\n",
    "env = gym.make(\"CartPole-v0\")\n",
    "from dataclasses import dataclass\n",
    "from torch.autograd import Variable\n",
    "import numpy as np\n",
    "\n",
    "import math\n",
    "import torch.optim as optim\n",
    "\n",
    "\n",
    "def REINFORCE(model, optimizer, render=False):\n",
    "    \n",
    "    all_rewards = []\n",
    "\n",
    "    \n",
    "    for episode in range(5000):\n",
    "        state = env.reset()\n",
    "        log_probs = []\n",
    "        rewards = []\n",
    "        GAMMA = 0.9\n",
    "        \n",
    "        for steps in range(1000):\n",
    "            if(render):\n",
    "                env.render()\n",
    "            \n",
    "            state = torch.from_numpy(state).float().unsqueeze(0)\n",
    "            \n",
    "            probs = model(Variable(state))\n",
    "            \n",
    "            action = np.random.choice(2, p=np.squeeze(probs.detach().numpy()))\n",
    "            \n",
    "            log_prob = torch.log(probs.squeeze(0)[action])\n",
    "            \n",
    "            new_state, reward, done, _ = env.step(action)\n",
    "            \n",
    "            log_probs.append(log_prob)\n",
    "            rewards.append(reward)\n",
    "            \n",
    "            if done:\n",
    "                c = []\n",
    "                for t in range(len(rewards)):\n",
    "                    Gt = 0\n",
    "                    for i, r in enumerate(rewards[t:]):\n",
    "                        Gt = Gt + (GAMMA**(i+1)) * r\n",
    "                        print(i)\n",
    "                    c.append(Gt)\n",
    "      \n",
    "                c = torch.tensor(c)\n",
    "            \n",
    "                print(c.sum())\n",
    "            \n",
    "                c = (c - c.mean()) / (c.std() + 1e-9)\n",
    "    \n",
    "                policy_gradient = []\n",
    "                for log_prob, Gt in zip(log_probs, c):\n",
    "                    policy_gradient.append(-log_prob * Gt)\n",
    "    \n",
    "                optimizer.zero_grad()\n",
    "                torch.stack(policy_gradient).sum().backward()\n",
    "                optimizer.step()\n",
    "                break\n",
    "                \n",
    "            state = new_state"
   ]
  },
  {
   "cell_type": "code",
   "execution_count": null,
   "id": "classified-vulnerability",
   "metadata": {},
   "outputs": [],
   "source": [
    "model = policy_model()\n",
    "optimizer = optim.SGD(model.parameters() ,lr = 0.001)"
   ]
  },
  {
   "cell_type": "code",
   "execution_count": null,
   "id": "optimum-central",
   "metadata": {},
   "outputs": [],
   "source": [
    "REINFORCE(model, optimizer, render=True)"
   ]
  }
 ],
 "metadata": {
  "kernelspec": {
   "display_name": "Python 3",
   "language": "python",
   "name": "python3"
  },
  "language_info": {
   "codemirror_mode": {
    "name": "ipython",
    "version": 3
   },
   "file_extension": ".py",
   "mimetype": "text/x-python",
   "name": "python",
   "nbconvert_exporter": "python",
   "pygments_lexer": "ipython3",
   "version": "3.8.5"
  }
 },
 "nbformat": 4,
 "nbformat_minor": 5
}
